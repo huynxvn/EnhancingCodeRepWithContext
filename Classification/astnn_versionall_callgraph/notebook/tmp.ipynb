{
 "cells": [
  {
   "cell_type": "code",
   "execution_count": 21,
   "metadata": {},
   "outputs": [],
   "source": [
    "import javalang\n",
    "import json\n",
    "import os\n",
    "\n",
    "import pandas as pd\n",
    "import numpy as np\n",
    "\n",
    "# import matplotlib.pyplot as plt\n",
    "from sklearn.model_selection import train_test_split\n",
    "from sklearn.metrics import f1_score"
   ]
  },
  {
   "cell_type": "code",
   "execution_count": 22,
   "metadata": {},
   "outputs": [],
   "source": [
    "# import pytorch modules\n",
    "import torch\n",
    "import torchtext\n",
    "import torch.nn as nn\n",
    "import torch.nn.functional as F\n",
    "from torch.optim.optimizer import Optimizer"
   ]
  },
  {
   "cell_type": "code",
   "execution_count": 23,
   "metadata": {},
   "outputs": [],
   "source": [
    "# seed so results are reproducible\n",
    "RANDOM_SEED = 42\n",
    "torch.manual_seed(RANDOM_SEED)\n",
    "if torch.cuda.is_available():\n",
    "    torch.cuda.manual_seed_all(RANDOM_SEED)"
   ]
  },
  {
   "cell_type": "code",
   "execution_count": 30,
   "metadata": {},
   "outputs": [],
   "source": [
    "def split_data(data, ratio, seed=2023):    \n",
    "    data_num = len(data)\n",
    "    ratios = [int(r) for r in ratio.split(':')]\n",
    "    train_split = int(ratios[0]/sum(ratios)*data_num)\n",
    "    val_split = train_split + int(ratios[1]/sum(ratios)*data_num)\n",
    "\n",
    "    data = data.sample(frac=1, random_state=seed)\n",
    "    train_pairs = data.iloc[:train_split]\n",
    "    dev_pairs = data.iloc[train_split:val_split]\n",
    "    test_pairs = data.iloc[val_split:]\n",
    "\n",
    "    return train_pairs, dev_pairs, test_pairs\n",
    "\n",
    "def extract_pair(self):\n",
    "    data_list = []\n",
    "    confidence_map = {0: 0.6, 1: 0.8, 2: 1}\n",
    "    tree_df = self.tree_ds\n",
    "    id_list = list(tree_df['id'].values)        \n",
    "    for json_dict in self.dataset:\n",
    "        accumulate = 0\n",
    "        total_weight = 0\n",
    "        for field in ['goals', 'operations', 'effects']:\n",
    "            for rating_object in json_dict[field]:\n",
    "                if rating_object['rating'] != -1:\n",
    "                    accumulate += rating_object['rating'] * confidence_map[rating_object['confidence']]\n",
    "                    total_weight += confidence_map[rating_object['confidence']]\n",
    "        score = round(accumulate / total_weight)\n",
    "        data_ins = [\n",
    "            int(json_dict['first']['dbid']),\n",
    "            int(json_dict['second']['dbid']),\n",
    "            score\n",
    "        ]\n",
    "\n",
    "        if data_ins[0] in id_list and data_ins[1] in id_list:\n",
    "            data_list.append(data_ins)\n",
    "    self.pair_ds = pd.DataFrame(data_list, columns=['id1', 'id2', 'label'])\n",
    "\n",
    "    # print(\"---->\", self.pair_ds.shape)\n",
    "    # print(\"---->\", self.pair_ds.head())\n",
    "    return self.pair_ds"
   ]
  },
  {
   "cell_type": "code",
   "execution_count": 33,
   "metadata": {},
   "outputs": [],
   "source": [
    "# read training data \n",
    "DATA_PATH = '../data/SeSaMe_VersionHistory.json'\n",
    "\n",
    "with open(DATA_PATH, 'r', encoding='utf-8') as input_file:\n",
    "    data = json.load(input_file)\n",
    "    input_file.close()\n",
    "mydf = pd.DataFrame(data)\n",
    "\n",
    "# split into validation & train sets & test set\n",
    "data_train, data_val, data_test= split_data(mydf, '8:1:1')"
   ]
  },
  {
   "cell_type": "code",
   "execution_count": 35,
   "metadata": {},
   "outputs": [
    {
     "data": {
      "text/html": [
       "<div>\n",
       "<style scoped>\n",
       "    .dataframe tbody tr th:only-of-type {\n",
       "        vertical-align: middle;\n",
       "    }\n",
       "\n",
       "    .dataframe tbody tr th {\n",
       "        vertical-align: top;\n",
       "    }\n",
       "\n",
       "    .dataframe thead th {\n",
       "        text-align: right;\n",
       "    }\n",
       "</style>\n",
       "<table border=\"1\" class=\"dataframe\">\n",
       "  <thead>\n",
       "    <tr style=\"text-align: right;\">\n",
       "      <th></th>\n",
       "      <th>pairid</th>\n",
       "      <th>first</th>\n",
       "      <th>second</th>\n",
       "      <th>goals</th>\n",
       "      <th>operations</th>\n",
       "      <th>effects</th>\n",
       "    </tr>\n",
       "  </thead>\n",
       "  <tbody>\n",
       "    <tr>\n",
       "      <th>612</th>\n",
       "      <td>650</td>\n",
       "      <td>{'dbid': '8643', 'project': 'deeplearning4j', ...</td>\n",
       "      <td>{'dbid': '36559', 'project': 'openjdk11', 'fil...</td>\n",
       "      <td>[{'rating': -1, 'confidence': -1}, {'rating': ...</td>\n",
       "      <td>[{'rating': -1, 'confidence': -1}, {'rating': ...</td>\n",
       "      <td>[{'rating': -1, 'confidence': -1}, {'rating': ...</td>\n",
       "    </tr>\n",
       "    <tr>\n",
       "      <th>41</th>\n",
       "      <td>43</td>\n",
       "      <td>{'dbid': '14803', 'project': 'freemind', 'file...</td>\n",
       "      <td>{'dbid': '45364', 'project': 'openjdk11', 'fil...</td>\n",
       "      <td>[{'rating': 2, 'confidence': 2}, {'rating': -1...</td>\n",
       "      <td>[{'rating': 2, 'confidence': 2}, {'rating': -1...</td>\n",
       "      <td>[{'rating': 2, 'confidence': 2}, {'rating': -1...</td>\n",
       "    </tr>\n",
       "    <tr>\n",
       "      <th>773</th>\n",
       "      <td>814</td>\n",
       "      <td>{'dbid': '1965', 'project': 'commons-lang', 'f...</td>\n",
       "      <td>{'dbid': '25762', 'project': 'openjdk11', 'fil...</td>\n",
       "      <td>[{'rating': 2, 'confidence': 2}, {'rating': -1...</td>\n",
       "      <td>[{'rating': 1, 'confidence': 1}, {'rating': -1...</td>\n",
       "      <td>[{'rating': 1, 'confidence': 1}, {'rating': -1...</td>\n",
       "    </tr>\n",
       "    <tr>\n",
       "      <th>638</th>\n",
       "      <td>676</td>\n",
       "      <td>{'dbid': '7547', 'project': 'deeplearning4j', ...</td>\n",
       "      <td>{'dbid': '15044', 'project': 'freemind', 'file...</td>\n",
       "      <td>[{'rating': -1, 'confidence': -1}, {'rating': ...</td>\n",
       "      <td>[{'rating': -1, 'confidence': -1}, {'rating': ...</td>\n",
       "      <td>[{'rating': -1, 'confidence': -1}, {'rating': ...</td>\n",
       "    </tr>\n",
       "    <tr>\n",
       "      <th>370</th>\n",
       "      <td>395</td>\n",
       "      <td>{'dbid': '1383', 'project': 'commons-collectio...</td>\n",
       "      <td>{'dbid': '43746', 'project': 'openjdk11', 'fil...</td>\n",
       "      <td>[{'rating': -1, 'confidence': -1}, {'rating': ...</td>\n",
       "      <td>[{'rating': -1, 'confidence': -1}, {'rating': ...</td>\n",
       "      <td>[{'rating': -1, 'confidence': -1}, {'rating': ...</td>\n",
       "    </tr>\n",
       "  </tbody>\n",
       "</table>\n",
       "</div>"
      ],
      "text/plain": [
       "    pairid                                              first  \\\n",
       "612    650  {'dbid': '8643', 'project': 'deeplearning4j', ...   \n",
       "41      43  {'dbid': '14803', 'project': 'freemind', 'file...   \n",
       "773    814  {'dbid': '1965', 'project': 'commons-lang', 'f...   \n",
       "638    676  {'dbid': '7547', 'project': 'deeplearning4j', ...   \n",
       "370    395  {'dbid': '1383', 'project': 'commons-collectio...   \n",
       "\n",
       "                                                second  \\\n",
       "612  {'dbid': '36559', 'project': 'openjdk11', 'fil...   \n",
       "41   {'dbid': '45364', 'project': 'openjdk11', 'fil...   \n",
       "773  {'dbid': '25762', 'project': 'openjdk11', 'fil...   \n",
       "638  {'dbid': '15044', 'project': 'freemind', 'file...   \n",
       "370  {'dbid': '43746', 'project': 'openjdk11', 'fil...   \n",
       "\n",
       "                                                 goals  \\\n",
       "612  [{'rating': -1, 'confidence': -1}, {'rating': ...   \n",
       "41   [{'rating': 2, 'confidence': 2}, {'rating': -1...   \n",
       "773  [{'rating': 2, 'confidence': 2}, {'rating': -1...   \n",
       "638  [{'rating': -1, 'confidence': -1}, {'rating': ...   \n",
       "370  [{'rating': -1, 'confidence': -1}, {'rating': ...   \n",
       "\n",
       "                                            operations  \\\n",
       "612  [{'rating': -1, 'confidence': -1}, {'rating': ...   \n",
       "41   [{'rating': 2, 'confidence': 2}, {'rating': -1...   \n",
       "773  [{'rating': 1, 'confidence': 1}, {'rating': -1...   \n",
       "638  [{'rating': -1, 'confidence': -1}, {'rating': ...   \n",
       "370  [{'rating': -1, 'confidence': -1}, {'rating': ...   \n",
       "\n",
       "                                               effects  \n",
       "612  [{'rating': -1, 'confidence': -1}, {'rating': ...  \n",
       "41   [{'rating': 2, 'confidence': 2}, {'rating': -1...  \n",
       "773  [{'rating': 1, 'confidence': 1}, {'rating': -1...  \n",
       "638  [{'rating': -1, 'confidence': -1}, {'rating': ...  \n",
       "370  [{'rating': -1, 'confidence': -1}, {'rating': ...  "
      ]
     },
     "execution_count": 35,
     "metadata": {},
     "output_type": "execute_result"
    }
   ],
   "source": [
    "data_train.head()"
   ]
  },
  {
   "cell_type": "code",
   "execution_count": 34,
   "metadata": {},
   "outputs": [
    {
     "ename": "KeyError",
     "evalue": "'label'",
     "output_type": "error",
     "traceback": [
      "\u001b[0;31m---------------------------------------------------------------------------\u001b[0m",
      "\u001b[0;31mKeyError\u001b[0m                                  Traceback (most recent call last)",
      "File \u001b[0;32m~/anaconda3/envs/research/lib/python3.9/site-packages/pandas/core/indexes/base.py:3652\u001b[0m, in \u001b[0;36mIndex.get_loc\u001b[0;34m(self, key)\u001b[0m\n\u001b[1;32m   3651\u001b[0m \u001b[39mtry\u001b[39;00m:\n\u001b[0;32m-> 3652\u001b[0m     \u001b[39mreturn\u001b[39;00m \u001b[39mself\u001b[39;49m\u001b[39m.\u001b[39;49m_engine\u001b[39m.\u001b[39;49mget_loc(casted_key)\n\u001b[1;32m   3653\u001b[0m \u001b[39mexcept\u001b[39;00m \u001b[39mKeyError\u001b[39;00m \u001b[39mas\u001b[39;00m err:\n",
      "File \u001b[0;32m~/anaconda3/envs/research/lib/python3.9/site-packages/pandas/_libs/index.pyx:147\u001b[0m, in \u001b[0;36mpandas._libs.index.IndexEngine.get_loc\u001b[0;34m()\u001b[0m\n",
      "File \u001b[0;32m~/anaconda3/envs/research/lib/python3.9/site-packages/pandas/_libs/index.pyx:176\u001b[0m, in \u001b[0;36mpandas._libs.index.IndexEngine.get_loc\u001b[0;34m()\u001b[0m\n",
      "File \u001b[0;32mpandas/_libs/hashtable_class_helper.pxi:7080\u001b[0m, in \u001b[0;36mpandas._libs.hashtable.PyObjectHashTable.get_item\u001b[0;34m()\u001b[0m\n",
      "File \u001b[0;32mpandas/_libs/hashtable_class_helper.pxi:7088\u001b[0m, in \u001b[0;36mpandas._libs.hashtable.PyObjectHashTable.get_item\u001b[0;34m()\u001b[0m\n",
      "\u001b[0;31mKeyError\u001b[0m: 'label'",
      "\nThe above exception was the direct cause of the following exception:\n",
      "\u001b[0;31mKeyError\u001b[0m                                  Traceback (most recent call last)",
      "\u001b[1;32m/home/student.unimelb.edu.au/huyxuann/data/SeSaMe_VersionHistory/src/tmp.ipynb Cell 6\u001b[0m line \u001b[0;36m1\n\u001b[0;32m----> <a href='vscode-notebook-cell://ssh-remote%2B172.26.149.199/home/student.unimelb.edu.au/huyxuann/data/SeSaMe_VersionHistory/src/tmp.ipynb#X16sdnNjb2RlLXJlbW90ZQ%3D%3D?line=0'>1</a>\u001b[0m data_train\u001b[39m.\u001b[39mloc[data_train[\u001b[39m'\u001b[39;49m\u001b[39mlabel\u001b[39;49m\u001b[39m'\u001b[39;49m] \u001b[39m>\u001b[39m \u001b[39m0\u001b[39m, \u001b[39m'\u001b[39m\u001b[39mlabel\u001b[39m\u001b[39m'\u001b[39m] \u001b[39m=\u001b[39m \u001b[39m1\u001b[39m\n\u001b[1;32m      <a href='vscode-notebook-cell://ssh-remote%2B172.26.149.199/home/student.unimelb.edu.au/huyxuann/data/SeSaMe_VersionHistory/src/tmp.ipynb#X16sdnNjb2RlLXJlbW90ZQ%3D%3D?line=1'>2</a>\u001b[0m data_val\u001b[39m.\u001b[39mloc[data_val[\u001b[39m'\u001b[39m\u001b[39mlabel\u001b[39m\u001b[39m'\u001b[39m] \u001b[39m>\u001b[39m \u001b[39m0\u001b[39m, \u001b[39m'\u001b[39m\u001b[39mlabel\u001b[39m\u001b[39m'\u001b[39m] \u001b[39m=\u001b[39m \u001b[39m1\u001b[39m\n\u001b[1;32m      <a href='vscode-notebook-cell://ssh-remote%2B172.26.149.199/home/student.unimelb.edu.au/huyxuann/data/SeSaMe_VersionHistory/src/tmp.ipynb#X16sdnNjb2RlLXJlbW90ZQ%3D%3D?line=2'>3</a>\u001b[0m data_test\u001b[39m.\u001b[39mloc[data_test[\u001b[39m'\u001b[39m\u001b[39mlabel\u001b[39m\u001b[39m'\u001b[39m] \u001b[39m>\u001b[39m \u001b[39m0\u001b[39m, \u001b[39m'\u001b[39m\u001b[39mlabel\u001b[39m\u001b[39m'\u001b[39m] \u001b[39m=\u001b[39m \u001b[39m1\u001b[39m\n",
      "File \u001b[0;32m~/anaconda3/envs/research/lib/python3.9/site-packages/pandas/core/frame.py:3761\u001b[0m, in \u001b[0;36mDataFrame.__getitem__\u001b[0;34m(self, key)\u001b[0m\n\u001b[1;32m   3759\u001b[0m \u001b[39mif\u001b[39;00m \u001b[39mself\u001b[39m\u001b[39m.\u001b[39mcolumns\u001b[39m.\u001b[39mnlevels \u001b[39m>\u001b[39m \u001b[39m1\u001b[39m:\n\u001b[1;32m   3760\u001b[0m     \u001b[39mreturn\u001b[39;00m \u001b[39mself\u001b[39m\u001b[39m.\u001b[39m_getitem_multilevel(key)\n\u001b[0;32m-> 3761\u001b[0m indexer \u001b[39m=\u001b[39m \u001b[39mself\u001b[39;49m\u001b[39m.\u001b[39;49mcolumns\u001b[39m.\u001b[39;49mget_loc(key)\n\u001b[1;32m   3762\u001b[0m \u001b[39mif\u001b[39;00m is_integer(indexer):\n\u001b[1;32m   3763\u001b[0m     indexer \u001b[39m=\u001b[39m [indexer]\n",
      "File \u001b[0;32m~/anaconda3/envs/research/lib/python3.9/site-packages/pandas/core/indexes/base.py:3654\u001b[0m, in \u001b[0;36mIndex.get_loc\u001b[0;34m(self, key)\u001b[0m\n\u001b[1;32m   3652\u001b[0m     \u001b[39mreturn\u001b[39;00m \u001b[39mself\u001b[39m\u001b[39m.\u001b[39m_engine\u001b[39m.\u001b[39mget_loc(casted_key)\n\u001b[1;32m   3653\u001b[0m \u001b[39mexcept\u001b[39;00m \u001b[39mKeyError\u001b[39;00m \u001b[39mas\u001b[39;00m err:\n\u001b[0;32m-> 3654\u001b[0m     \u001b[39mraise\u001b[39;00m \u001b[39mKeyError\u001b[39;00m(key) \u001b[39mfrom\u001b[39;00m \u001b[39merr\u001b[39;00m\n\u001b[1;32m   3655\u001b[0m \u001b[39mexcept\u001b[39;00m \u001b[39mTypeError\u001b[39;00m:\n\u001b[1;32m   3656\u001b[0m     \u001b[39m# If we have a listlike key, _check_indexing_error will raise\u001b[39;00m\n\u001b[1;32m   3657\u001b[0m     \u001b[39m#  InvalidIndexError. Otherwise we fall through and re-raise\u001b[39;00m\n\u001b[1;32m   3658\u001b[0m     \u001b[39m#  the TypeError.\u001b[39;00m\n\u001b[1;32m   3659\u001b[0m     \u001b[39mself\u001b[39m\u001b[39m.\u001b[39m_check_indexing_error(key)\n",
      "\u001b[0;31mKeyError\u001b[0m: 'label'"
     ]
    }
   ],
   "source": [
    "data_train.loc[data_train['label'] > 0, 'label'] = 1\n",
    "data_val.loc[data_val['label'] > 0, 'label'] = 1\n",
    "data_test.loc[data_test['label'] > 0, 'label'] = 1\n",
    "\n",
    "print(data_train.shape)\n",
    "print(data_val.shape)\n",
    "print(data_test.shape)"
   ]
  },
  {
   "cell_type": "code",
   "execution_count": null,
   "metadata": {},
   "outputs": [],
   "source": []
  },
  {
   "cell_type": "code",
   "execution_count": null,
   "metadata": {},
   "outputs": [],
   "source": []
  },
  {
   "cell_type": "code",
   "execution_count": null,
   "metadata": {},
   "outputs": [],
   "source": [
    "data_train = pd.read_pickle(DATA_DIR + '/train_blocks.pkl').sample(frac=1, random_state=RANDOM_SEED)\n",
    "data_val = pd.read_pickle(DATA_DIR + '/dev_blocks.pkl').sample(frac=1, random_state=RANDOM_SEED)\n",
    "data_test = pd.read_pickle(DATA_DIR + '/test_blocks.pkl').sample(frac=1, random_state=RANDOM_SEED)\n",
    "\n",
    "\n"
   ]
  },
  {
   "cell_type": "code",
   "execution_count": 19,
   "metadata": {},
   "outputs": [
    {
     "name": "stdout",
     "output_type": "stream",
     "text": [
      "0.31478770131771594\n",
      "0.37209302325581395\n"
     ]
    }
   ],
   "source": [
    "# check proportion of positive examples in train and val set\n",
    "print(np.sum(train_data.label) / len(train_data))\n",
    "print(np.sum(test_data.label) / len(test_data))"
   ]
  },
  {
   "cell_type": "code",
   "execution_count": 17,
   "metadata": {},
   "outputs": [],
   "source": [
    "# !rm -rf split_data\n",
    "# !mkdir split_data\n",
    "data_train.to_csv(DATA_DIR + '/split_data/train.csv', index=False)\n",
    "data_val.to_csv(DATA_DIR + '/split_data/val.csv', index=False)\n",
    "data_test.to_csv(DATA_DIR+ '/split_data/test.csv', index=False)\n",
    "# del data_train, data_val, data_test "
   ]
  },
  {
   "cell_type": "code",
   "execution_count": 20,
   "metadata": {},
   "outputs": [
    {
     "data": {
      "text/html": [
       "<div>\n",
       "<style scoped>\n",
       "    .dataframe tbody tr th:only-of-type {\n",
       "        vertical-align: middle;\n",
       "    }\n",
       "\n",
       "    .dataframe tbody tr th {\n",
       "        vertical-align: top;\n",
       "    }\n",
       "\n",
       "    .dataframe thead th {\n",
       "        text-align: right;\n",
       "    }\n",
       "</style>\n",
       "<table border=\"1\" class=\"dataframe\">\n",
       "  <thead>\n",
       "    <tr style=\"text-align: right;\">\n",
       "      <th></th>\n",
       "      <th>id1</th>\n",
       "      <th>id2</th>\n",
       "      <th>label</th>\n",
       "      <th>code_x</th>\n",
       "      <th>code_versions_x</th>\n",
       "      <th>code_y</th>\n",
       "      <th>code_versions_y</th>\n",
       "    </tr>\n",
       "  </thead>\n",
       "  <tbody>\n",
       "    <tr>\n",
       "      <th>497</th>\n",
       "      <td>11855</td>\n",
       "      <td>36123</td>\n",
       "      <td>0</td>\n",
       "      <td>[[25, [18, [28], [114]], [469]], [4, [8, [0, [...</td>\n",
       "      <td>[[[25, [18, [28], [114]], [469]], [4, [8, [0, ...</td>\n",
       "      <td>[[25, [18, [173]], [2972]], [45, [140, [46, [3...</td>\n",
       "      <td>[[[25, [18, [173]], [2972]], [45, [140, [46, [...</td>\n",
       "    </tr>\n",
       "    <tr>\n",
       "      <th>295</th>\n",
       "      <td>2356</td>\n",
       "      <td>33190</td>\n",
       "      <td>1</td>\n",
       "      <td>[[25, [18, [28], [114]], [14, [86]], [1973], [...</td>\n",
       "      <td>[[[25, [18, [28], [114]], [14, [86]], [1973], ...</td>\n",
       "      <td>[[25, [18, [28], [114]], [14, [86]], [1973], [...</td>\n",
       "      <td>[[[25, [18, [28], [114]], [14, [86]], [1973], ...</td>\n",
       "    </tr>\n",
       "    <tr>\n",
       "      <th>589</th>\n",
       "      <td>9876</td>\n",
       "      <td>20631</td>\n",
       "      <td>0</td>\n",
       "      <td>[[25, [18, [28]], [2972], [23, [3, [2964]], [2...</td>\n",
       "      <td>[[[25, [18, [28]], [2972], [23, [3, [2964]], [...</td>\n",
       "      <td>[[25, [18, [44], [28]], [2972]], [297], [6, [1...</td>\n",
       "      <td>[[[25, [18, [44], [28]], [2972]], [297], [6, [...</td>\n",
       "    </tr>\n",
       "  </tbody>\n",
       "</table>\n",
       "</div>"
      ],
      "text/plain": [
       "       id1    id2  label                                             code_x  \\\n",
       "497  11855  36123      0  [[25, [18, [28], [114]], [469]], [4, [8, [0, [...   \n",
       "295   2356  33190      1  [[25, [18, [28], [114]], [14, [86]], [1973], [...   \n",
       "589   9876  20631      0  [[25, [18, [28]], [2972], [23, [3, [2964]], [2...   \n",
       "\n",
       "                                       code_versions_x  \\\n",
       "497  [[[25, [18, [28], [114]], [469]], [4, [8, [0, ...   \n",
       "295  [[[25, [18, [28], [114]], [14, [86]], [1973], ...   \n",
       "589  [[[25, [18, [28]], [2972], [23, [3, [2964]], [...   \n",
       "\n",
       "                                                code_y  \\\n",
       "497  [[25, [18, [173]], [2972]], [45, [140, [46, [3...   \n",
       "295  [[25, [18, [28], [114]], [14, [86]], [1973], [...   \n",
       "589  [[25, [18, [44], [28]], [2972]], [297], [6, [1...   \n",
       "\n",
       "                                       code_versions_y  \n",
       "497  [[[25, [18, [173]], [2972]], [45, [140, [46, [...  \n",
       "295  [[[25, [18, [28], [114]], [14, [86]], [1973], ...  \n",
       "589  [[[25, [18, [44], [28]], [2972]], [297], [6, [...  "
      ]
     },
     "execution_count": 20,
     "metadata": {},
     "output_type": "execute_result"
    }
   ],
   "source": [
    "data_train.head(3)"
   ]
  },
  {
   "cell_type": "code",
   "execution_count": null,
   "metadata": {},
   "outputs": [],
   "source": [
    "# initialize torchtext Field objects \n",
    "text = torchtext.data.Field(lower=True, batch_first=True, tokenize='spacy', include_lengths=True)\n",
    "target = torchtext.data.Field(sequential=False, use_vocab=False, is_target=True)\n",
    "qid = torchtext.data.Field()\n",
    "# use field objects to read training, validation and test sets\n",
    "train = torchtext.data.TabularDataset(path=DATA_DIR + '/split_data/train.csv', format='csv',\n",
    "                                      fields={'code_x': ('text',text),\n",
    "                                              'target': ('target',target)})\n",
    "val = torchtext.data.TabularDataset(path=DATA_DIR + '/split_data/val.csv', format='csv',\n",
    "                                    fields={'question_text': ('text',text),\n",
    "                                              'target': ('target',target)})\n",
    "test = torchtext.data.TabularDataset(path=DATA_DIR + '/split_data/test.csv', format='csv',\n",
    "                                     fields={'qid': ('qid', qid),\n",
    "                                             'question_text': ('text',text)})"
   ]
  },
  {
   "cell_type": "code",
   "execution_count": null,
   "metadata": {},
   "outputs": [],
   "source": []
  },
  {
   "cell_type": "code",
   "execution_count": null,
   "metadata": {},
   "outputs": [],
   "source": []
  },
  {
   "cell_type": "code",
   "execution_count": null,
   "metadata": {},
   "outputs": [],
   "source": []
  },
  {
   "cell_type": "code",
   "execution_count": null,
   "metadata": {},
   "outputs": [],
   "source": []
  },
  {
   "cell_type": "code",
   "execution_count": null,
   "metadata": {},
   "outputs": [],
   "source": []
  }
 ],
 "metadata": {
  "kernelspec": {
   "display_name": "research",
   "language": "python",
   "name": "python3"
  },
  "language_info": {
   "codemirror_mode": {
    "name": "ipython",
    "version": 3
   },
   "file_extension": ".py",
   "mimetype": "text/x-python",
   "name": "python",
   "nbconvert_exporter": "python",
   "pygments_lexer": "ipython3",
   "version": "3.9.16"
  },
  "orig_nbformat": 4
 },
 "nbformat": 4,
 "nbformat_minor": 2
}
